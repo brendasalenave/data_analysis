{
 "cells": [
  {
   "cell_type": "code",
   "execution_count": 11,
   "metadata": {},
   "outputs": [],
   "source": [
    "#!/usr/bin/envpython3\n",
    "# coding: utf-8"
   ]
  },
  {
   "cell_type": "markdown",
   "metadata": {},
   "source": [
    "### LDA"
   ]
  },
  {
   "cell_type": "code",
   "execution_count": 12,
   "metadata": {},
   "outputs": [],
   "source": [
    "from nltk.tokenize import RegexpTokenizer\n",
    "from stop_words import get_stop_words\n",
    "from nltk.stem import RSLPStemmer\n",
    "import unicodedata\n",
    "from gensim import corpora, models\n",
    "import gensim\n",
    "import pyLDAvis.gensim"
   ]
  },
  {
   "cell_type": "code",
   "execution_count": 18,
   "metadata": {},
   "outputs": [],
   "source": [
    "import warnings\n",
    "warnings.simplefilter(\"ignore\")"
   ]
  },
  {
   "cell_type": "code",
   "execution_count": 13,
   "metadata": {},
   "outputs": [],
   "source": [
    "tokenizer = RegexpTokenizer(r'\\w+')\n",
    "\n",
    "# create Portuguese stop words list\n",
    "pt_stop = get_stop_words('pt')\n",
    "\n",
    "# Create p_stemmer of class PorterStemmer\n",
    "p_stemmer = RSLPStemmer()"
   ]
  },
  {
   "cell_type": "markdown",
   "metadata": {},
   "source": [
    "#### - Tweets"
   ]
  },
  {
   "cell_type": "code",
   "execution_count": 20,
   "metadata": {},
   "outputs": [],
   "source": [
    "# create sample documents\n",
    "doc_a = \"Bolsonaro realmente mudou a segurança do país... Já tenho mais medo dos seguidores dele do que de assalto\"\n",
    "doc_b = \"Não sei quanto a vocês, mas lágrimas escorrem pelo meu rosto agora. Em um país onde o racismo é velado, chama-se de mucama uma negra em rede nacional e não se faz nada, esse apoio não me surpreende, porém o medo e a tristeza não cabem mais em mim\"\n",
    "doc_c = \"Alguns especialistas em saúde sugerem que a direção pode aumentar a tensão e a pressão sanguínea.\"\n",
    "doc_d = \"acabei de ser expulsa de uma sala no counter strike por usar o EleNao no meu nome, depois dizem que não são fascistas, o cara  perguntou se eu era viado antes de me expulsar (eles nem admitem a possibilidade de uma mulher jogar online) abriu uma votação e as pessoas concordaram \"\n",
    "doc_e = \"Segundo o jornal catalão Sport, “a misoginia e o racismo que Jair Bolsonaro emprega em seus discursos e ao longo de sua carreira política são inaceitáveis no ponto de vista do Barça”\"\n"
   ]
  },
  {
   "cell_type": "code",
   "execution_count": 24,
   "metadata": {},
   "outputs": [],
   "source": [
    "doc_set = [doc_a, doc_b, doc_c, doc_d, doc_e]"
   ]
  },
  {
   "cell_type": "code",
   "execution_count": 25,
   "metadata": {},
   "outputs": [
    {
     "name": "stdout",
     "output_type": "stream",
     "text": [
      "[(0, '0.067*\"saud\" + 0.066*\"bem\" + 0.066*\"faz\" + 0.040*\"pressa\"'), (1, '0.056*\"brocolil\" + 0.055*\"irma\" + 0.055*\"mae\" + 0.055*\"com\"')]\n"
     ]
    },
    {
     "data": {
      "text/html": [
       "\n",
       "<link rel=\"stylesheet\" type=\"text/css\" href=\"https://cdn.rawgit.com/bmabey/pyLDAvis/files/ldavis.v1.0.0.css\">\n",
       "\n",
       "\n",
       "<div id=\"ldavis_el175091405744503320801877842395\"></div>\n",
       "<script type=\"text/javascript\">\n",
       "\n",
       "var ldavis_el175091405744503320801877842395_data = {\"mdsDat\": {\"Freq\": [42.7282750403898, 57.2717249596102], \"cluster\": [1, 1], \"topics\": [1, 2], \"x\": [0.059001603006577544, -0.059001603006577544], \"y\": [0.0, 0.0]}, \"tinfo\": {\"Category\": [\"Default\", \"Default\", \"Default\", \"Default\", \"Default\", \"Default\", \"Default\", \"Default\", \"Default\", \"Default\", \"Default\", \"Default\", \"Default\", \"Default\", \"Default\", \"Default\", \"Default\", \"Default\", \"Default\", \"Default\", \"Default\", \"Default\", \"Default\", \"Default\", \"Default\", \"Default\", \"Default\", \"Default\", \"Default\", \"Default\", \"Topic1\", \"Topic1\", \"Topic1\", \"Topic1\", \"Topic1\", \"Topic1\", \"Topic1\", \"Topic1\", \"Topic1\", \"Topic1\", \"Topic1\", \"Topic1\", \"Topic1\", \"Topic1\", \"Topic1\", \"Topic1\", \"Topic1\", \"Topic1\", \"Topic1\", \"Topic1\", \"Topic1\", \"Topic1\", \"Topic1\", \"Topic1\", \"Topic1\", \"Topic1\", \"Topic1\", \"Topic1\", \"Topic1\", \"Topic1\", \"Topic2\", \"Topic2\", \"Topic2\", \"Topic2\", \"Topic2\", \"Topic2\", \"Topic2\", \"Topic2\", \"Topic2\", \"Topic2\", \"Topic2\", \"Topic2\", \"Topic2\", \"Topic2\", \"Topic2\", \"Topic2\", \"Topic2\", \"Topic2\", \"Topic2\", \"Topic2\", \"Topic2\", \"Topic2\", \"Topic2\", \"Topic2\", \"Topic2\", \"Topic2\", \"Topic2\", \"Topic2\", \"Topic2\", \"Topic2\", \"Topic2\", \"Topic2\"], \"Freq\": [1.0, 1.0, 1.0, 1.0, 1.0, 1.0, 1.0, 1.0, 1.0, 1.0, 1.0, 1.0, 2.0, 1.0, 1.0, 1.0, 1.0, 1.0, 1.0, 1.0, 1.0, 1.0, 1.0, 1.0, 1.0, 1.0, 1.0, 1.0, 1.0, 1.0, 1.3635127357531172, 1.3635068798650567, 0.8180100977240867, 0.8180098036113469, 0.8180040181922212, 0.8179967655566177, 0.8179948193092544, 0.8179939689681456, 0.8179889632095585, 0.8179828811128742, 0.8171966404173514, 0.8171949564112535, 1.3810867511520473, 0.827356001955035, 0.8196830774305959, 0.8195659198635535, 0.8064071445858936, 0.27512296040975615, 0.27512294163617323, 0.2751213884635621, 0.275113297750536, 0.2751088079866784, 0.27510270230375755, 0.2751015261844273, 0.27510144708290357, 0.2750566926407078, 0.27503508954579214, 0.2750341693145621, 0.27503402603317656, 0.2750323766870802, 1.5106261019196217, 1.510622769536316, 0.9056735709029882, 0.905636916134915, 0.9053027038349023, 0.9052982191870151, 0.9052963914611095, 0.9052962326835791, 0.9052952129276514, 0.905271273418348, 0.9052216787010398, 0.9052215910445413, 0.9052202877257454, 0.905213521702004, 0.90520854636194, 0.9051995806234423, 0.9051978594723605, 0.9051978386683805, 1.5265301467960268, 1.5119482258068224, 1.5118183974337525, 0.8982777057848953, 0.8896978854166956, 0.30449976081810454, 0.3044978946836544, 0.30362662061302914, 0.30361988072641904, 0.303614333585848, 0.3036133912787865, 0.3036112345411969, 0.30414112582144975, 0.30413463660834156], \"Term\": [\"bem\", \"faz\", \"escol\", \"melhor\", \"gui\", \"costum\", \"parec\", \"sent\", \"nunc\", \"sair\", \"diz\", \"profiss\", \"saud\", \"com\", \"bom\", \"pressa\", \"nao\", \"gost\", \"pass\", \"dirig\", \"beisebol\", \"lev\", \"pratic\", \"temp\", \"sanguine\", \"sug\", \"tensa\", \"aument\", \"pod\", \"especi\", \"bem\", \"faz\", \"escol\", \"melhor\", \"gui\", \"costum\", \"parec\", \"sent\", \"nunc\", \"sair\", \"diz\", \"profiss\", \"saud\", \"pressa\", \"mae\", \"irma\", \"brocolil\", \"direca\", \"algum\", \"especi\", \"pod\", \"aument\", \"tensa\", \"sug\", \"sanguine\", \"temp\", \"pratic\", \"lev\", \"beisebol\", \"dirig\", \"com\", \"bom\", \"nao\", \"gost\", \"pass\", \"dirig\", \"beisebol\", \"lev\", \"pratic\", \"temp\", \"sanguine\", \"sug\", \"tensa\", \"aument\", \"pod\", \"especi\", \"algum\", \"direca\", \"brocolil\", \"irma\", \"mae\", \"pressa\", \"saud\", \"profiss\", \"diz\", \"sair\", \"nunc\", \"sent\", \"parec\", \"costum\", \"faz\", \"bem\"], \"Total\": [1.0, 1.0, 1.0, 1.0, 1.0, 1.0, 1.0, 1.0, 1.0, 1.0, 1.0, 1.0, 2.0, 1.0, 1.0, 1.0, 1.0, 1.0, 1.0, 1.0, 1.0, 1.0, 1.0, 1.0, 1.0, 1.0, 1.0, 1.0, 1.0, 1.0, 1.6676473723614587, 1.6676480056865064, 1.1216065581994192, 1.1216065900082521, 1.121607215711955, 1.1216080000978146, 1.121608210588041, 1.1216083025539936, 1.1216088439359775, 1.1216095017259033, 1.121694535101006, 1.121694717229358, 2.270784636568743, 1.7256337077399304, 2.331501474864348, 2.331514145670376, 2.3329372913819206, 1.1803207990781366, 1.1803208011085338, 1.1803209690870045, 1.180321844112476, 1.1803223296886824, 1.180322990029503, 1.1803231172289685, 1.1803231257839433, 1.1803279660590558, 1.1803303024734435, 1.180330401998141, 1.1803304174942861, 1.1803305958740953, 1.7853968208836195, 1.7853964956543846, 1.1803672289202696, 1.1803636515400306, 1.18033103356042, 1.1803305958740953, 1.1803304174942861, 1.180330401998141, 1.1803303024734435, 1.1803279660590558, 1.1803231257839433, 1.1803231172289685, 1.180322990029503, 1.1803223296886824, 1.180321844112476, 1.1803209690870045, 1.1803208011085338, 1.1803207990781366, 2.3329372913819206, 2.331514145670376, 2.331501474864348, 1.7256337077399304, 2.270784636568743, 1.121694717229358, 1.121694535101006, 1.1216095017259033, 1.1216088439359775, 1.1216083025539936, 1.121608210588041, 1.1216080000978146, 1.6676480056865064, 1.6676473723614587], \"loglift\": [30.0, 29.0, 28.0, 27.0, 26.0, 25.0, 24.0, 23.0, 22.0, 21.0, 20.0, 19.0, 18.0, 17.0, 16.0, 15.0, 14.0, 13.0, 12.0, 11.0, 10.0, 9.0, 8.0, 7.0, 6.0, 5.0, 4.0, 3.0, 2.0, 1.0, 0.649, 0.649, 0.5347, 0.5347, 0.5347, 0.5346, 0.5346, 0.5346, 0.5346, 0.5346, 0.5336, 0.5336, 0.3531, 0.1152, -0.195, -0.1952, -0.212, -0.606, -0.606, -0.606, -0.6061, -0.6061, -0.6061, -0.6061, -0.6061, -0.6063, -0.6063, -0.6063, -0.6063, -0.6064, 0.3902, 0.3902, 0.2925, 0.2924, 0.2921, 0.2921, 0.2921, 0.2921, 0.2921, 0.2921, 0.292, 0.292, 0.292, 0.292, 0.292, 0.292, 0.292, 0.292, 0.1332, 0.1242, 0.1242, -0.0955, -0.3796, -0.7466, -0.7466, -0.7494, -0.7494, -0.7494, -0.7494, -0.7494, -1.1443, -1.1443], \"logprob\": [30.0, 29.0, 28.0, 27.0, 26.0, 25.0, 24.0, 23.0, 22.0, 21.0, 20.0, 19.0, 18.0, 17.0, 16.0, 15.0, 14.0, 13.0, 12.0, 11.0, 10.0, 9.0, 8.0, 7.0, 6.0, 5.0, 4.0, 3.0, 2.0, 1.0, -2.7108, -2.7108, -3.2218, -3.2218, -3.2218, -3.2218, -3.2218, -3.2218, -3.2218, -3.2218, -3.2228, -3.2228, -2.698, -3.2104, -3.2197, -3.2199, -3.2361, -4.3114, -4.3114, -4.3114, -4.3115, -4.3115, -4.3115, -4.3115, -4.3115, -4.3117, -4.3117, -4.3118, -4.3118, -4.3118, -2.9013, -2.9013, -3.4129, -3.413, -3.4133, -3.4133, -3.4133, -3.4133, -3.4133, -3.4134, -3.4134, -3.4134, -3.4134, -3.4134, -3.4134, -3.4134, -3.4134, -3.4134, -2.8908, -2.9004, -2.9005, -3.4211, -3.4307, -4.5029, -4.5029, -4.5058, -4.5058, -4.5058, -4.5058, -4.5058, -4.5041, -4.5041]}, \"token.table\": {\"Topic\": [2, 2, 2, 1, 2, 1, 2, 2, 1, 2, 2, 1, 1, 2, 1, 2, 1, 1, 2, 2, 1, 2, 1, 2, 1, 1, 2, 2, 2, 1, 2, 1, 1, 2, 1, 2, 1, 2, 2, 2], \"Freq\": [0.8472272953766636, 0.8472261981722877, 0.8472203928480398, 0.5996471535729752, 1.1201993534029866, 0.42864418331949583, 0.8572883666389917, 1.1201991493466255, 0.891577092810314, 0.8472272968340707, 0.8472202648101728, 0.8915083106025407, 0.8915782389908263, 0.8472271748027272, 0.5996469258441254, 0.8471965387067717, 0.8915777163266883, 0.4289058257943667, 0.8578116515887334, 0.8472204039709, 0.4289081567311392, 0.8578163134622784, 0.8915782137056119, 0.8471939710785948, 0.8915764220356673, 0.8915769254896202, 0.8472199506468462, 0.8472265467152595, 0.8472204754079837, 0.5794972568713346, 0.5794972568713346, 0.8915081658493051, 0.8915758991531599, 0.8472256267416799, 0.4403764161056879, 0.4403764161056879, 0.8915768523850246, 0.8472256328823661, 0.8472221524487429, 0.8472257241850423], \"Term\": [\"algum\", \"aument\", \"beisebol\", \"bem\", \"bom\", \"brocolil\", \"brocolil\", \"com\", \"costum\", \"direca\", \"dirig\", \"diz\", \"escol\", \"especi\", \"faz\", \"gost\", \"gui\", \"irma\", \"irma\", \"lev\", \"mae\", \"mae\", \"melhor\", \"nao\", \"nunc\", \"parec\", \"pass\", \"pod\", \"pratic\", \"pressa\", \"pressa\", \"profiss\", \"sair\", \"sanguine\", \"saud\", \"saud\", \"sent\", \"sug\", \"temp\", \"tensa\"]}, \"R\": 30, \"lambda.step\": 0.01, \"plot.opts\": {\"xlab\": \"PC1\", \"ylab\": \"PC2\"}, \"topic.order\": [1, 2]};\n",
       "\n",
       "function LDAvis_load_lib(url, callback){\n",
       "  var s = document.createElement('script');\n",
       "  s.src = url;\n",
       "  s.async = true;\n",
       "  s.onreadystatechange = s.onload = callback;\n",
       "  s.onerror = function(){console.warn(\"failed to load library \" + url);};\n",
       "  document.getElementsByTagName(\"head\")[0].appendChild(s);\n",
       "}\n",
       "\n",
       "if(typeof(LDAvis) !== \"undefined\"){\n",
       "   // already loaded: just create the visualization\n",
       "   !function(LDAvis){\n",
       "       new LDAvis(\"#\" + \"ldavis_el175091405744503320801877842395\", ldavis_el175091405744503320801877842395_data);\n",
       "   }(LDAvis);\n",
       "}else if(typeof define === \"function\" && define.amd){\n",
       "   // require.js is available: use it to load d3/LDAvis\n",
       "   require.config({paths: {d3: \"https://cdnjs.cloudflare.com/ajax/libs/d3/3.5.5/d3.min\"}});\n",
       "   require([\"d3\"], function(d3){\n",
       "      window.d3 = d3;\n",
       "      LDAvis_load_lib(\"https://cdn.rawgit.com/bmabey/pyLDAvis/files/ldavis.v1.0.0.js\", function(){\n",
       "        new LDAvis(\"#\" + \"ldavis_el175091405744503320801877842395\", ldavis_el175091405744503320801877842395_data);\n",
       "      });\n",
       "    });\n",
       "}else{\n",
       "    // require.js not available: dynamically load d3 & LDAvis\n",
       "    LDAvis_load_lib(\"https://cdnjs.cloudflare.com/ajax/libs/d3/3.5.5/d3.min.js\", function(){\n",
       "         LDAvis_load_lib(\"https://cdn.rawgit.com/bmabey/pyLDAvis/files/ldavis.v1.0.0.js\", function(){\n",
       "                 new LDAvis(\"#\" + \"ldavis_el175091405744503320801877842395\", ldavis_el175091405744503320801877842395_data);\n",
       "            })\n",
       "         });\n",
       "}\n",
       "</script>"
      ],
      "text/plain": [
       "<IPython.core.display.HTML object>"
      ]
     },
     "execution_count": 25,
     "metadata": {},
     "output_type": "execute_result"
    }
   ],
   "source": [
    "# list for tokenized documents in loop\n",
    "texts = []\n",
    "\n",
    "# loop through document list\n",
    "for i in doc_set:\n",
    "\n",
    "    # clean and tokenize document string\n",
    "    raw = i.lower()\n",
    "    #data = text\n",
    "    raw = unicodedata.normalize('NFKD', raw).encode('ASCII', 'ignore')\n",
    "    raw = (str(raw).replace('b\\'','').replace('\\'',''))\n",
    "    tokens = tokenizer.tokenize(raw)\n",
    "\n",
    "    # remove stop words from tokens\n",
    "    stopped_tokens = [i for i in tokens if not i in pt_stop]\n",
    "\n",
    "    # stem tokens\n",
    "    stemmed_tokens = [p_stemmer.stem(i) for i in stopped_tokens]\n",
    "    #print(stemmed_tokens)\n",
    "\n",
    "    # add tokens to list\n",
    "    texts.append(stemmed_tokens)\n",
    "\n",
    "# turn our tokenized documents into a id <-> term dictionary\n",
    "dictionary = corpora.Dictionary(texts)\n",
    "\n",
    "# convert tokenized documents into a document-term matrix\n",
    "corpus = [dictionary.doc2bow(text) for text in texts]\n",
    "\n",
    "# generate LDA model\n",
    "ldamodel = gensim.models.ldamodel.LdaModel(corpus, num_topics=2, id2word = dictionary, passes=20,random_state=1)\n",
    "#print(ldamodel)\n",
    "print(ldamodel.print_topics(num_topics=2, num_words=4))\n",
    "\n",
    "lda_display = pyLDAvis.gensim.prepare(ldamodel, corpus, dictionary, sort_topics=False)\n",
    "pyLDAvis.display(lda_display)"
   ]
  },
  {
   "cell_type": "code",
   "execution_count": null,
   "metadata": {},
   "outputs": [],
   "source": []
  },
  {
   "cell_type": "code",
   "execution_count": null,
   "metadata": {},
   "outputs": [],
   "source": []
  }
 ],
 "metadata": {
  "kernelspec": {
   "display_name": "Python 3",
   "language": "python",
   "name": "python3"
  },
  "language_info": {
   "codemirror_mode": {
    "name": "ipython",
    "version": 3
   },
   "file_extension": ".py",
   "mimetype": "text/x-python",
   "name": "python",
   "nbconvert_exporter": "python",
   "pygments_lexer": "ipython3",
   "version": "3.6.4"
  }
 },
 "nbformat": 4,
 "nbformat_minor": 2
}
