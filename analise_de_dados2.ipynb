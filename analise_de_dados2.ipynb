{
 "cells": [
  {
   "cell_type": "code",
   "execution_count": 1,
   "metadata": {},
   "outputs": [],
   "source": [
    "import warnings\n",
    "warnings.simplefilter(\"ignore\")"
   ]
  },
  {
   "cell_type": "code",
   "execution_count": null,
   "metadata": {
    "scrolled": false
   },
   "outputs": [],
   "source": [
    "!pip install nltk\n",
    "!pip install stop_words\n",
    "!pip install gensim\n",
    "!pip install pyLDAvis"
   ]
  },
  {
   "cell_type": "code",
   "execution_count": 3,
   "metadata": {},
   "outputs": [],
   "source": [
    "#!/usr/bin/envpython3\n",
    "# coding: utf-8"
   ]
  },
  {
   "cell_type": "markdown",
   "metadata": {},
   "source": [
    "### Latent Dirichlet Allocation (LDA)"
   ]
  },
  {
   "cell_type": "code",
   "execution_count": 2,
   "metadata": {},
   "outputs": [],
   "source": [
    "from nltk.tokenize import RegexpTokenizer\n",
    "from stop_words import get_stop_words\n",
    "from nltk.stem import RSLPStemmer\n",
    "import unicodedata\n",
    "from gensim import corpora, models\n",
    "import gensim\n",
    "import pyLDAvis.gensim"
   ]
  },
  {
   "cell_type": "markdown",
   "metadata": {},
   "source": [
    "- Tokenização: separar palavras ou sentenças em unidades. Marca cada palavra como um token no texto.\n",
    "- Stemmer: reduzir uma palavra ao seu radical"
   ]
  },
  {
   "cell_type": "code",
   "execution_count": 3,
   "metadata": {},
   "outputs": [],
   "source": [
    "tokenizer = RegexpTokenizer(r'\\w+')\n",
    "\n",
    "# create Portuguese stop words list\n",
    "pt_stop = get_stop_words('pt')\n",
    "\n",
    "# Create p_stemmer of class PorterStemmer\n",
    "p_stemmer = RSLPStemmer()"
   ]
  },
  {
   "cell_type": "markdown",
   "metadata": {},
   "source": [
    "#### - Docs"
   ]
  },
  {
   "cell_type": "code",
   "execution_count": 4,
   "metadata": {},
   "outputs": [],
   "source": [
    "# create sample documents\n",
    "doc_a = \"O brócolis é bom para comer. Meu irmão gosta de comer bons brócolis, mas não minha mãe.\"\n",
    "doc_b = \"Minha mãe passa muito tempo dirigindo para levar meu irmão para praticar futebol.\"\n",
    "doc_c = \"Alguns especialistas em saúde sugerem que a direção pode aumentar a tensão e a pressão sanguínea.\"\n",
    "doc_d = \"Costumo sentir pressão para me sair bem na escola, mas minha mãe parece nunca cobrar meu irmão para fazer melhor.\"\n",
    "doc_e = \"Profissionais da saúde dizem que brócolis faz bem a sua saúde.\"\n"
   ]
  },
  {
   "cell_type": "code",
   "execution_count": 5,
   "metadata": {},
   "outputs": [],
   "source": [
    "doc_set = [doc_a, doc_b, doc_c, doc_d, doc_e]"
   ]
  },
  {
   "cell_type": "markdown",
   "metadata": {},
   "source": [
    "#### - Pré Processamento"
   ]
  },
  {
   "cell_type": "code",
   "execution_count": 6,
   "metadata": {},
   "outputs": [],
   "source": [
    "# list for tokenized documents in loop\n",
    "texts = []\n",
    "\n",
    "# loop through document list\n",
    "for i in doc_set:\n",
    "\n",
    "    # clean and tokenize document string\n",
    "    raw = i.lower()\n",
    "    raw = unicodedata.normalize('NFKD', raw).encode('ASCII', 'ignore')\n",
    "    raw = (str(raw).replace('b\\'','').replace('\\'',''))\n",
    "\n",
    "    tokens = tokenizer.tokenize(raw)\n",
    "\n",
    "    # remove stop words from tokens\n",
    "    stopped_tokens = [i for i in tokens if not i in pt_stop]\n",
    "\n",
    "    stemmed_tokens = [p_stemmer.stem(i) for i in stopped_tokens]\n",
    "    #print(stemmed_tokens)\n",
    "\n",
    "    # add tokens to list\n",
    "    texts.append(stopped_tokens)\n",
    "\n",
    "# turn our tokenized documents into a id <-> term dictionary\n",
    "dictionary = corpora.Dictionary(texts)"
   ]
  },
  {
   "cell_type": "markdown",
   "metadata": {},
   "source": [
    "#### LDA"
   ]
  },
  {
   "cell_type": "code",
   "execution_count": null,
   "metadata": {
    "scrolled": false
   },
   "outputs": [],
   "source": [
    "# convert tokenized documents into a document-term matrix\n",
    "corpus = [dictionary.doc2bow(text) for text in texts]\n",
    "\n",
    "# generate LDA model\n",
    "ldamodel = gensim.models.ldamodel.LdaModel(corpus, num_topics=2, id2word = dictionary, passes=20,random_state=1)\n",
    "#print(ldamodel)\n",
    "print(ldamodel.print_topics(num_topics=2, num_words=4))"
   ]
  },
  {
   "cell_type": "markdown",
   "metadata": {},
   "source": [
    "#### Interpretação\n",
    "\n",
    "- Saliency: uma medida de quanto o termo lhe diz sobre o tópico.\n",
    "\n",
    "- Relevance: uma média ponderada da probabilidade da palavra dada ao tópico e a palavra normalizada pela probabilidade do tópico.\n",
    "\n",
    "- O tamanho da bolha indica a importância dos tópicos em relação aos dados.\n",
    "\n",
    "- Primeiro, temos os termos mais relevantes, significa que os termos nos dizem principalmente sobre o que está acontecendo em relação aos tópicos. É possível também observar tópicos individuais"
   ]
  },
  {
   "cell_type": "code",
   "execution_count": 8,
   "metadata": {
    "scrolled": true
   },
   "outputs": [
    {
     "data": {
      "text/html": [
       "\n",
       "<link rel=\"stylesheet\" type=\"text/css\" href=\"https://cdn.rawgit.com/bmabey/pyLDAvis/files/ldavis.v1.0.0.css\">\n",
       "\n",
       "\n",
       "<div id=\"ldavis_el39841397264031369925133380292\"></div>\n",
       "<script type=\"text/javascript\">\n",
       "\n",
       "var ldavis_el39841397264031369925133380292_data = {\"mdsDat\": {\"x\": [0.055212944746017456, -0.055212944746017456], \"y\": [0.0, 0.0], \"topics\": [1, 2], \"cluster\": [1, 1], \"Freq\": [42.72467803955078, 57.275325775146484]}, \"tinfo\": {\"Category\": [\"Default\", \"Default\", \"Default\", \"Default\", \"Default\", \"Default\", \"Default\", \"Default\", \"Default\", \"Default\", \"Default\", \"Default\", \"Default\", \"Default\", \"Default\", \"Default\", \"Default\", \"Default\", \"Default\", \"Default\", \"Default\", \"Default\", \"Default\", \"Default\", \"Default\", \"Default\", \"Default\", \"Default\", \"Default\", \"Default\", \"Topic1\", \"Topic1\", \"Topic1\", \"Topic1\", \"Topic1\", \"Topic1\", \"Topic1\", \"Topic1\", \"Topic1\", \"Topic1\", \"Topic1\", \"Topic1\", \"Topic1\", \"Topic1\", \"Topic1\", \"Topic1\", \"Topic1\", \"Topic1\", \"Topic1\", \"Topic1\", \"Topic1\", \"Topic1\", \"Topic1\", \"Topic1\", \"Topic1\", \"Topic1\", \"Topic1\", \"Topic1\", \"Topic1\", \"Topic1\", \"Topic2\", \"Topic2\", \"Topic2\", \"Topic2\", \"Topic2\", \"Topic2\", \"Topic2\", \"Topic2\", \"Topic2\", \"Topic2\", \"Topic2\", \"Topic2\", \"Topic2\", \"Topic2\", \"Topic2\", \"Topic2\", \"Topic2\", \"Topic2\", \"Topic2\", \"Topic2\", \"Topic2\", \"Topic2\", \"Topic2\", \"Topic2\", \"Topic2\", \"Topic2\", \"Topic2\", \"Topic2\", \"Topic2\", \"Topic2\", \"Topic2\"], \"Freq\": [1.0, 1.0, 1.0, 1.0, 1.0, 1.0, 1.0, 1.0, 1.0, 1.0, 1.0, 1.0, 1.0, 2.0, 1.0, 1.0, 1.0, 1.0, 1.0, 1.0, 1.0, 1.0, 1.0, 1.0, 1.0, 1.0, 1.0, 1.0, 1.0, 1.0, 1.3279404640197754, 0.7966834306716919, 0.7966817021369934, 0.7966814637184143, 0.796680748462677, 0.7966803312301636, 0.7966799139976501, 0.7966793179512024, 0.7966784238815308, 0.7966781854629517, 0.7958299517631531, 0.7958272695541382, 0.7958232760429382, 1.3443281650543213, 0.8054747581481934, 0.7989796996116638, 0.7987103462219238, 0.784986138343811, 0.2682095170021057, 0.2681894898414612, 0.2681795060634613, 0.2681499719619751, 0.26814454793930054, 0.26813963055610657, 0.2678748369216919, 0.26787206530570984, 0.26786887645721436, 0.267868310213089, 0.2678681015968323, 0.26786619424819946, 1.4782426357269287, 0.8862739205360413, 0.8862727284431458, 0.8862500786781311, 0.8862429261207581, 0.8859202265739441, 0.8859171271324158, 0.8859125971794128, 0.8859104514122009, 0.8859103918075562, 0.8859096765518188, 0.8859060406684875, 0.885903000831604, 0.8856081366539001, 0.885602593421936, 0.8855966925621033, 0.8855636715888977, 0.885552704334259, 0.8855302929878235, 1.494278907775879, 1.4789968729019165, 1.4786970615386963, 0.8793729543685913, 0.8714468479156494, 0.298027902841568, 0.2980235517024994, 0.298020601272583, 0.29707610607147217, 0.2970757782459259, 0.2970747947692871, 0.29760292172431946], \"Term\": [\"bem\", \"sentir\", \"fazer\", \"nunca\", \"sair\", \"cobrar\", \"parece\", \"escola\", \"costumo\", \"melhor\", \"faz\", \"profissionais\", \"dizem\", \"saude\", \"comer\", \"pressao\", \"bons\", \"nao\", \"bom\", \"gosta\", \"sanguinea\", \"tensao\", \"pode\", \"sugerem\", \"aumentar\", \"alguns\", \"direcao\", \"especialistas\", \"praticar\", \"passa\", \"bem\", \"sentir\", \"fazer\", \"nunca\", \"sair\", \"cobrar\", \"parece\", \"escola\", \"costumo\", \"melhor\", \"faz\", \"profissionais\", \"dizem\", \"saude\", \"pressao\", \"mae\", \"irmao\", \"brocolis\", \"tempo\", \"dirigindo\", \"levar\", \"futebol\", \"passa\", \"praticar\", \"especialistas\", \"direcao\", \"alguns\", \"aumentar\", \"sugerem\", \"pode\", \"comer\", \"bons\", \"nao\", \"bom\", \"gosta\", \"sanguinea\", \"tensao\", \"pode\", \"sugerem\", \"aumentar\", \"alguns\", \"direcao\", \"especialistas\", \"praticar\", \"passa\", \"futebol\", \"levar\", \"dirigindo\", \"tempo\", \"brocolis\", \"irmao\", \"mae\", \"pressao\", \"saude\", \"dizem\", \"profissionais\", \"faz\", \"melhor\", \"costumo\", \"escola\", \"bem\"], \"Total\": [1.0, 1.0, 1.0, 1.0, 1.0, 1.0, 1.0, 1.0, 1.0, 1.0, 1.0, 1.0, 1.0, 2.0, 1.0, 1.0, 1.0, 1.0, 1.0, 1.0, 1.0, 1.0, 1.0, 1.0, 1.0, 1.0, 1.0, 1.0, 1.0, 1.0, 1.6255433559417725, 1.0937535762786865, 1.093753695487976, 1.0937538146972656, 1.0937538146972656, 1.0937540531158447, 1.0937540531158447, 1.0937540531158447, 1.0937541723251343, 1.0937542915344238, 1.0938506126403809, 1.09385085105896, 1.0938512086868286, 2.2157750129699707, 1.6848477125167847, 2.277676820755005, 2.277707099914551, 2.2792649269104004, 1.1537398099899292, 1.1537421941757202, 1.1537431478500366, 1.1537466049194336, 1.1537470817565918, 1.153747797012329, 1.153777837753296, 1.153778076171875, 1.1537785530090332, 1.1537786722183228, 1.1537785530090332, 1.1537787914276123, 1.7458950281143188, 1.153815507888794, 1.153815507888794, 1.153813123703003, 1.1538124084472656, 1.1537795066833496, 1.1537792682647705, 1.1537787914276123, 1.1537785530090332, 1.1537786722183228, 1.1537785530090332, 1.153778076171875, 1.153777837753296, 1.153747797012329, 1.1537470817565918, 1.1537466049194336, 1.1537431478500366, 1.1537421941757202, 1.1537398099899292, 2.2792649269104004, 2.277707099914551, 2.277676820755005, 1.6848477125167847, 2.2157750129699707, 1.0938512086868286, 1.09385085105896, 1.0938506126403809, 1.0937542915344238, 1.0937541723251343, 1.0937540531158447, 1.6255433559417725], \"loglift\": [30.0, 29.0, 28.0, 27.0, 26.0, 25.0, 24.0, 23.0, 22.0, 21.0, 20.0, 19.0, 18.0, 17.0, 16.0, 15.0, 14.0, 13.0, 12.0, 11.0, 10.0, 9.0, 8.0, 7.0, 6.0, 5.0, 4.0, 3.0, 2.0, 1.0, 0.6481999754905701, 0.5335000157356262, 0.5335000157356262, 0.5335000157356262, 0.5335000157356262, 0.5335000157356262, 0.5335000157356262, 0.5335000157356262, 0.5335000157356262, 0.5335000157356262, 0.5322999954223633, 0.5322999954223633, 0.5322999954223633, 0.3506999909877777, 0.11240000277757645, -0.1972000002861023, -0.19750000536441803, -0.21549999713897705, -0.6086000204086304, -0.6086999773979187, -0.6086999773979187, -0.6087999939918518, -0.6089000105857849, -0.6089000105857849, -0.6098999977111816, -0.6098999977111816, -0.6098999977111816, -0.6098999977111816, -0.6098999977111816, -0.6098999977111816, 0.39089998602867126, 0.29350000619888306, 0.29350000619888306, 0.29350000619888306, 0.29350000619888306, 0.2930999994277954, 0.2930999994277954, 0.2930999994277954, 0.2930999994277954, 0.2930999994277954, 0.2930999994277954, 0.2930999994277954, 0.2930999994277954, 0.29280000925064087, 0.29280000925064087, 0.29280000925064087, 0.29280000925064087, 0.29269999265670776, 0.29269999265670776, 0.13510000705718994, 0.12549999356269836, 0.12530000507831573, -0.09290000051259995, -0.375900000333786, -0.7429999709129333, -0.7429999709129333, -0.7429999709129333, -0.7461000084877014, -0.7461000084877014, -0.7461000084877014, -1.1404999494552612], \"logprob\": [30.0, 29.0, 28.0, 27.0, 26.0, 25.0, 24.0, 23.0, 22.0, 21.0, 20.0, 19.0, 18.0, 17.0, 16.0, 15.0, 14.0, 13.0, 12.0, 11.0, 10.0, 9.0, 8.0, 7.0, 6.0, 5.0, 4.0, 3.0, 2.0, 1.0, -2.7372000217437744, -3.2481000423431396, -3.2481000423431396, -3.2481000423431396, -3.2481000423431396, -3.2481000423431396, -3.2481000423431396, -3.2481000423431396, -3.2481000423431396, -3.2481000423431396, -3.2492001056671143, -3.2492001056671143, -3.2492001056671143, -2.724900007247925, -3.2370998859405518, -3.2451999187469482, -3.2455999851226807, -3.2629001140594482, -4.3368000984191895, -4.336900234222412, -4.336900234222412, -4.336999893188477, -4.336999893188477, -4.337100028991699, -4.3379998207092285, -4.338099956512451, -4.338099956512451, -4.338099956512451, -4.338099956512451, -4.338099956512451, -2.9230000972747803, -3.4346001148223877, -3.4346001148223877, -3.4347000122070312, -3.4347000122070312, -3.434999942779541, -3.434999942779541, -3.434999942779541, -3.434999942779541, -3.434999942779541, -3.434999942779541, -3.434999942779541, -3.434999942779541, -3.4354000091552734, -3.4354000091552734, -3.4354000091552734, -3.4354000091552734, -3.4354000091552734, -3.435499906539917, -2.9123001098632812, -2.922499895095825, -2.9226999282836914, -3.4423999786376953, -3.4514999389648438, -4.524499893188477, -4.524499893188477, -4.524499893188477, -4.527699947357178, -4.527699947357178, -4.527699947357178, -4.525899887084961]}, \"token.table\": {\"Topic\": [2, 2, 1, 2, 2, 1, 2, 1, 2, 1, 2, 2, 1, 1, 2, 1, 1, 2, 2, 1, 2, 2, 1, 2, 1, 2, 1, 1, 2, 2, 2, 1, 2, 1, 1, 2, 1, 2, 1, 2, 2, 2], \"Freq\": [0.8667174577713013, 0.8667173385620117, 0.6151789426803589, 0.8666914701461792, 0.8666896820068359, 0.4387379288673401, 0.4387379288673401, 0.9142823219299316, 0.5727721452713013, 0.9142822027206421, 0.8667178153991699, 0.8667447566986084, 0.9142011404037476, 0.9142823219299316, 0.8667179942131042, 0.9142016172409058, 0.9142826199531555, 0.866741418838501, 0.8666920065879822, 0.4390380084514618, 0.4390380084514618, 0.8667440414428711, 0.4390438497066498, 0.4390438497066498, 0.9142821431159973, 0.8666896820068359, 0.914282500743866, 0.9142823219299316, 0.8667410612106323, 0.8667172789573669, 0.8667405247688293, 0.5935254693031311, 0.5935254693031311, 0.9142014384269714, 0.914282500743866, 0.866716742515564, 0.45130935311317444, 0.45130935311317444, 0.9142827391624451, 0.8667174577713013, 0.8667465448379517, 0.8667169213294983], \"Term\": [\"alguns\", \"aumentar\", \"bem\", \"bom\", \"bons\", \"brocolis\", \"brocolis\", \"cobrar\", \"comer\", \"costumo\", \"direcao\", \"dirigindo\", \"dizem\", \"escola\", \"especialistas\", \"faz\", \"fazer\", \"futebol\", \"gosta\", \"irmao\", \"irmao\", \"levar\", \"mae\", \"mae\", \"melhor\", \"nao\", \"nunca\", \"parece\", \"passa\", \"pode\", \"praticar\", \"pressao\", \"pressao\", \"profissionais\", \"sair\", \"sanguinea\", \"saude\", \"saude\", \"sentir\", \"sugerem\", \"tempo\", \"tensao\"]}, \"R\": 30, \"lambda.step\": 0.01, \"plot.opts\": {\"xlab\": \"PC1\", \"ylab\": \"PC2\"}, \"topic.order\": [1, 2]};\n",
       "\n",
       "function LDAvis_load_lib(url, callback){\n",
       "  var s = document.createElement('script');\n",
       "  s.src = url;\n",
       "  s.async = true;\n",
       "  s.onreadystatechange = s.onload = callback;\n",
       "  s.onerror = function(){console.warn(\"failed to load library \" + url);};\n",
       "  document.getElementsByTagName(\"head\")[0].appendChild(s);\n",
       "}\n",
       "\n",
       "if(typeof(LDAvis) !== \"undefined\"){\n",
       "   // already loaded: just create the visualization\n",
       "   !function(LDAvis){\n",
       "       new LDAvis(\"#\" + \"ldavis_el39841397264031369925133380292\", ldavis_el39841397264031369925133380292_data);\n",
       "   }(LDAvis);\n",
       "}else if(typeof define === \"function\" && define.amd){\n",
       "   // require.js is available: use it to load d3/LDAvis\n",
       "   require.config({paths: {d3: \"https://cdnjs.cloudflare.com/ajax/libs/d3/3.5.5/d3.min\"}});\n",
       "   require([\"d3\"], function(d3){\n",
       "      window.d3 = d3;\n",
       "      LDAvis_load_lib(\"https://cdn.rawgit.com/bmabey/pyLDAvis/files/ldavis.v1.0.0.js\", function(){\n",
       "        new LDAvis(\"#\" + \"ldavis_el39841397264031369925133380292\", ldavis_el39841397264031369925133380292_data);\n",
       "      });\n",
       "    });\n",
       "}else{\n",
       "    // require.js not available: dynamically load d3 & LDAvis\n",
       "    LDAvis_load_lib(\"https://cdnjs.cloudflare.com/ajax/libs/d3/3.5.5/d3.min.js\", function(){\n",
       "         LDAvis_load_lib(\"https://cdn.rawgit.com/bmabey/pyLDAvis/files/ldavis.v1.0.0.js\", function(){\n",
       "                 new LDAvis(\"#\" + \"ldavis_el39841397264031369925133380292\", ldavis_el39841397264031369925133380292_data);\n",
       "            })\n",
       "         });\n",
       "}\n",
       "</script>"
      ],
      "text/plain": [
       "<IPython.core.display.HTML object>"
      ]
     },
     "execution_count": 8,
     "metadata": {},
     "output_type": "execute_result"
    }
   ],
   "source": [
    "lda_display = pyLDAvis.gensim.prepare(ldamodel, corpus, dictionary, sort_topics=False)\n",
    "pyLDAvis.display(lda_display)"
   ]
  },
  {
   "cell_type": "code",
   "execution_count": 9,
   "metadata": {},
   "outputs": [],
   "source": [
    "pyLDAvis.save_html(lda_display, 'lda_example.html')"
   ]
  }
 ],
 "metadata": {
  "kernelspec": {
   "display_name": "Python 3",
   "language": "python",
   "name": "python3"
  },
  "language_info": {
   "codemirror_mode": {
    "name": "ipython",
    "version": 3
   },
   "file_extension": ".py",
   "mimetype": "text/x-python",
   "name": "python",
   "nbconvert_exporter": "python",
   "pygments_lexer": "ipython3",
   "version": "3.6.6"
  }
 },
 "nbformat": 4,
 "nbformat_minor": 2
}
