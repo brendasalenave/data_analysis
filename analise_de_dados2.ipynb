{
 "cells": [
  {
   "cell_type": "code",
   "execution_count": 12,
   "metadata": {},
   "outputs": [],
   "source": [
    "import warnings\n",
    "warnings.simplefilter(\"ignore\")"
   ]
  },
  {
   "cell_type": "code",
   "execution_count": null,
   "metadata": {
    "scrolled": true
   },
   "outputs": [],
   "source": [
    "!pip install nltk\n",
    "!pip install stop_words\n",
    "!pip install gensim\n",
    "!pip install pyLDAvis"
   ]
  },
  {
   "cell_type": "code",
   "execution_count": 4,
   "metadata": {},
   "outputs": [],
   "source": [
    "#!/usr/bin/envpython3\n",
    "# coding: utf-8"
   ]
  },
  {
   "cell_type": "markdown",
   "metadata": {},
   "source": [
    "### Latent Dirichlet Allocation (LDA)"
   ]
  },
  {
   "cell_type": "code",
   "execution_count": 5,
   "metadata": {},
   "outputs": [],
   "source": [
    "from nltk.tokenize import RegexpTokenizer\n",
    "from stop_words import get_stop_words\n",
    "from nltk.stem import RSLPStemmer\n",
    "import unicodedata\n",
    "from gensim import corpora, models\n",
    "import gensim\n",
    "import pyLDAvis.gensim"
   ]
  },
  {
   "cell_type": "markdown",
   "metadata": {},
   "source": [
    "- Tokenização: separar palavras ou sentenças em unidades. Marca cada palavra como um token no texto.\n",
    "- Stemmer: reduzir uma palavra ao seu radical"
   ]
  },
  {
   "cell_type": "code",
   "execution_count": 6,
   "metadata": {},
   "outputs": [],
   "source": [
    "tokenizer = RegexpTokenizer(r'\\w+')\n",
    "\n",
    "# create Portuguese stop words list\n",
    "pt_stop = get_stop_words('pt')\n",
    "\n",
    "# Create p_stemmer of class PorterStemmer\n",
    "p_stemmer = RSLPStemmer()"
   ]
  },
  {
   "cell_type": "markdown",
   "metadata": {},
   "source": [
    "#### - Docs"
   ]
  },
  {
   "cell_type": "code",
   "execution_count": 7,
   "metadata": {},
   "outputs": [],
   "source": [
    "# create sample documents\n",
    "doc_a = \"O brócolis é bom para comer. Meu irmão gosta de comer bons brócolis, mas não minha mãe.\"\n",
    "doc_b = \"Minha mãe passa muito tempo dirigindo para levar meu irmão para praticar futebol.\"\n",
    "doc_c = \"Alguns especialistas em saúde sugerem que a direção pode aumentar a tensão e a pressão sanguínea.\"\n",
    "doc_d = \"Costumo sentir pressão para me sair bem na escola, mas minha mãe parece nunca cobrar meu irmão para fazer melhor.\"\n",
    "doc_e = \"Profissionais da saúde dizem que brócolis faz bem a sua saúde.\"\n"
   ]
  },
  {
   "cell_type": "code",
   "execution_count": 8,
   "metadata": {},
   "outputs": [],
   "source": [
    "doc_set = [doc_a, doc_b, doc_c, doc_d, doc_e]"
   ]
  },
  {
   "cell_type": "markdown",
   "metadata": {},
   "source": [
    "#### - Pré Processamento"
   ]
  },
  {
   "cell_type": "code",
   "execution_count": 9,
   "metadata": {},
   "outputs": [],
   "source": [
    "# list for tokenized documents in loop\n",
    "texts = []\n",
    "\n",
    "# loop through document list\n",
    "for i in doc_set:\n",
    "\n",
    "    # clean and tokenize document string\n",
    "    raw = i.lower()\n",
    "    #data = text\n",
    "    raw = unicodedata.normalize('NFKD', raw).encode('ASCII', 'ignore')\n",
    "    raw = (str(raw).replace('b\\'','').replace('\\'',''))\n",
    "\n",
    "    tokens = tokenizer.tokenize(raw)\n",
    "\n",
    "    # remove stop words from tokens\n",
    "    stopped_tokens = [i for i in tokens if not i in pt_stop]\n",
    "\n",
    "    #stemmed_tokens = [p_stemmer.stem(i) for i in stopped_tokens]\n",
    "    #print(stemmed_tokens)\n",
    "\n",
    "    # add tokens to list\n",
    "    texts.append(stopped_tokens)\n",
    "\n",
    "# turn our tokenized documents into a id <-> term dictionary\n",
    "dictionary = corpora.Dictionary(texts)"
   ]
  },
  {
   "cell_type": "markdown",
   "metadata": {},
   "source": [
    "#### LDA"
   ]
  },
  {
   "cell_type": "code",
   "execution_count": 14,
   "metadata": {},
   "outputs": [
    {
     "name": "stdout",
     "output_type": "stream",
     "text": [
      "[(0, '0.066*\"saude\" + 0.065*\"bem\" + 0.039*\"pressao\" + 0.039*\"irmao\"'), (1, '0.054*\"brocolis\" + 0.054*\"mae\" + 0.054*\"irmao\" + 0.054*\"comer\"')]\n"
     ]
    }
   ],
   "source": [
    "# convert tokenized documents into a document-term matrix\n",
    "corpus = [dictionary.doc2bow(text) for text in texts]\n",
    "\n",
    "# generate LDA model\n",
    "ldamodel = gensim.models.ldamodel.LdaModel(corpus, num_topics=2, id2word = dictionary, passes=20,random_state=1)\n",
    "#print(ldamodel)\n",
    "print(ldamodel.print_topics(num_topics=2, num_words=4))"
   ]
  },
  {
   "cell_type": "markdown",
   "metadata": {},
   "source": [
    "#### Interpretação\n",
    "\n",
    "- Saliency: uma medida de quanto o termo lhe diz sobre o tópico.\n",
    "\n",
    "- Relevance: uma média ponderada da probabilidade da palavra dada ao tópico e a palavra normalizada pela probabilidade do tópico.\n",
    "\n",
    "- O tamanho da bolha indica a importância dos tópicos em relação aos dados.\n",
    "\n",
    "- Primeiro, temos os termos mais relevantes, significa que os termos nos dizem principalmente sobre o que está acontecendo em relação aos tópicos. É possível também observar tópicos individuais"
   ]
  },
  {
   "cell_type": "code",
   "execution_count": 15,
   "metadata": {
    "scrolled": true
   },
   "outputs": [
    {
     "data": {
      "text/html": [
       "\n",
       "<link rel=\"stylesheet\" type=\"text/css\" href=\"https://cdn.rawgit.com/bmabey/pyLDAvis/files/ldavis.v1.0.0.css\">\n",
       "\n",
       "\n",
       "<div id=\"ldavis_el44581403571360391524355998891\"></div>\n",
       "<script type=\"text/javascript\">\n",
       "\n",
       "var ldavis_el44581403571360391524355998891_data = {\"mdsDat\": {\"x\": [0.05522698209792672, -0.05522698209792672], \"y\": [0.0, 0.0], \"topics\": [1, 2], \"cluster\": [1, 1], \"Freq\": [42.72443793491872, 57.275562065081274]}, \"tinfo\": {\"Category\": [\"Default\", \"Default\", \"Default\", \"Default\", \"Default\", \"Default\", \"Default\", \"Default\", \"Default\", \"Default\", \"Default\", \"Default\", \"Default\", \"Default\", \"Default\", \"Default\", \"Default\", \"Default\", \"Default\", \"Default\", \"Default\", \"Default\", \"Default\", \"Default\", \"Default\", \"Default\", \"Default\", \"Default\", \"Default\", \"Default\", \"Topic1\", \"Topic1\", \"Topic1\", \"Topic1\", \"Topic1\", \"Topic1\", \"Topic1\", \"Topic1\", \"Topic1\", \"Topic1\", \"Topic1\", \"Topic1\", \"Topic1\", \"Topic1\", \"Topic1\", \"Topic1\", \"Topic1\", \"Topic1\", \"Topic1\", \"Topic1\", \"Topic1\", \"Topic1\", \"Topic1\", \"Topic1\", \"Topic1\", \"Topic1\", \"Topic1\", \"Topic1\", \"Topic1\", \"Topic1\", \"Topic2\", \"Topic2\", \"Topic2\", \"Topic2\", \"Topic2\", \"Topic2\", \"Topic2\", \"Topic2\", \"Topic2\", \"Topic2\", \"Topic2\", \"Topic2\", \"Topic2\", \"Topic2\", \"Topic2\", \"Topic2\", \"Topic2\", \"Topic2\", \"Topic2\", \"Topic2\", \"Topic2\", \"Topic2\", \"Topic2\", \"Topic2\", \"Topic2\", \"Topic2\", \"Topic2\", \"Topic2\", \"Topic2\", \"Topic2\", \"Topic2\"], \"Freq\": [1.0, 1.0, 1.0, 1.0, 1.0, 1.0, 1.0, 1.0, 1.0, 1.0, 1.0, 1.0, 1.0, 2.0, 1.0, 1.0, 1.0, 1.0, 1.0, 1.0, 1.0, 1.0, 1.0, 1.0, 1.0, 1.0, 1.0, 1.0, 1.0, 1.0, 1.3280608210791638, 0.7967792317276016, 0.7967752968790408, 0.7967746985112891, 0.7967730369812679, 0.7967728798324845, 0.7967719083049836, 0.796771071399631, 0.7967675805916732, 0.7967669849663052, 0.7959047964493257, 0.7958986353033917, 0.795889915228017, 1.3444746220428074, 0.8056043740675791, 0.7983621427067308, 0.7983246489245218, 0.7852850043005971, 0.26792058195574836, 0.2679174124434171, 0.26791134096434505, 0.26791076608982395, 0.26791026509236837, 0.267908617268149, 0.2679045296140623, 0.2679016545910033, 0.26788110991978004, 0.2678786165440242, 0.26787744111792994, 0.26787420415816593, 1.4779223989914867, 0.8861318232277177, 0.8861128084873509, 0.8860863752913455, 0.8860416833156236, 0.8858454389854687, 0.8858448856958515, 0.8858442608406831, 0.8858406573497443, 0.885839348826442, 0.8858365731178761, 0.8858137021086591, 0.885810501537661, 0.8858059510255949, 0.8858041166130362, 0.8858035588860568, 0.8858029189166784, 0.8857961599448599, 0.8857926315386396, 1.493896109005202, 1.4793799442469546, 1.479338204925397, 0.8792505593564713, 0.8713876851671783, 0.2980396635612388, 0.2980299560841953, 0.29802309729225296, 0.2970632804470776, 0.2970626173771684, 0.297058731294003, 0.29763471915836115], \"Term\": [\"bem\", \"melhor\", \"escola\", \"nunca\", \"fazer\", \"costumo\", \"sentir\", \"cobrar\", \"sair\", \"parece\", \"dizem\", \"faz\", \"profissionais\", \"saude\", \"comer\", \"pressao\", \"bom\", \"bons\", \"gosta\", \"nao\", \"praticar\", \"levar\", \"tempo\", \"dirigindo\", \"passa\", \"futebol\", \"aumentar\", \"sanguinea\", \"direcao\", \"pode\", \"bem\", \"melhor\", \"escola\", \"nunca\", \"fazer\", \"costumo\", \"sentir\", \"cobrar\", \"sair\", \"parece\", \"dizem\", \"faz\", \"profissionais\", \"saude\", \"pressao\", \"irmao\", \"mae\", \"brocolis\", \"tensao\", \"sugerem\", \"alguns\", \"especialistas\", \"pode\", \"direcao\", \"sanguinea\", \"aumentar\", \"futebol\", \"passa\", \"dirigindo\", \"tempo\", \"comer\", \"bom\", \"bons\", \"gosta\", \"nao\", \"praticar\", \"levar\", \"tempo\", \"dirigindo\", \"passa\", \"futebol\", \"aumentar\", \"sanguinea\", \"direcao\", \"pode\", \"especialistas\", \"alguns\", \"sugerem\", \"tensao\", \"brocolis\", \"mae\", \"irmao\", \"pressao\", \"saude\", \"profissionais\", \"faz\", \"dizem\", \"parece\", \"sair\", \"cobrar\", \"bem\"], \"Total\": [1.0, 1.0, 1.0, 1.0, 1.0, 1.0, 1.0, 1.0, 1.0, 1.0, 1.0, 1.0, 1.0, 2.0, 1.0, 1.0, 1.0, 1.0, 1.0, 1.0, 1.0, 1.0, 1.0, 1.0, 1.0, 1.0, 1.0, 1.0, 1.0, 1.0, 1.6256955402375248, 1.0938288786739312, 1.0938293242292583, 1.0938293919843283, 1.093829580124619, 1.0938295979190717, 1.0938297079281984, 1.093829802693634, 1.0938301979688416, 1.0938302654133827, 1.0939278937415786, 1.093928591387587, 1.0939295787892558, 2.215862307209986, 1.6848549334240506, 2.277700347632128, 2.2777045931714763, 2.2791811133057993, 1.153713213494388, 1.153713572388277, 1.1537142598810235, 1.1537143249758808, 1.1537143817054045, 1.153714568293744, 1.1537150311517235, 1.1537153566996623, 1.153717683037656, 1.1537179653704661, 1.1537180984676743, 1.153718464998849, 1.74574918750524, 1.1537477145741606, 1.153745780478794, 1.153743091810901, 1.1537385459406182, 1.1537185848345308, 1.1537185285563556, 1.153718464998849, 1.1537180984676743, 1.1537179653704661, 1.153717683037656, 1.1537153566996623, 1.1537150311517235, 1.153714568293744, 1.1537143817054045, 1.1537143249758808, 1.1537142598810235, 1.153713572388277, 1.153713213494388, 2.2791811133057993, 2.2777045931714763, 2.277700347632128, 1.6848549334240506, 2.215862307209986, 1.0939295787892558, 1.093928591387587, 1.0939278937415786, 1.0938302654133827, 1.0938301979688416, 1.093829802693634, 1.6256955402375248], \"loglift\": [30.0, 29.0, 28.0, 27.0, 26.0, 25.0, 24.0, 23.0, 22.0, 21.0, 20.0, 19.0, 18.0, 17.0, 16.0, 15.0, 14.0, 13.0, 12.0, 11.0, 10.0, 9.0, 8.0, 7.0, 6.0, 5.0, 4.0, 3.0, 2.0, 1.0, 0.6482, 0.5335, 0.5335, 0.5335, 0.5335, 0.5335, 0.5335, 0.5335, 0.5335, 0.5335, 0.5323, 0.5323, 0.5323, 0.3508, 0.1126, -0.198, -0.198, -0.2151, -0.6097, -0.6097, -0.6097, -0.6097, -0.6097, -0.6097, -0.6097, -0.6097, -0.6098, -0.6098, -0.6098, -0.6098, 0.3907, 0.2934, 0.2934, 0.2933, 0.2933, 0.2931, 0.2931, 0.2931, 0.2931, 0.2931, 0.2931, 0.2931, 0.2931, 0.2931, 0.2931, 0.293, 0.293, 0.293, 0.293, 0.1349, 0.1258, 0.1257, -0.0931, -0.376, -0.743, -0.743, -0.7431, -0.7462, -0.7462, -0.7462, -1.1405], \"logprob\": [30.0, 29.0, 28.0, 27.0, 26.0, 25.0, 24.0, 23.0, 22.0, 21.0, 20.0, 19.0, 18.0, 17.0, 16.0, 15.0, 14.0, 13.0, 12.0, 11.0, 10.0, 9.0, 8.0, 7.0, 6.0, 5.0, 4.0, 3.0, 2.0, 1.0, -2.7371, -3.248, -3.248, -3.248, -3.248, -3.248, -3.248, -3.248, -3.248, -3.248, -3.2491, -3.2491, -3.2491, -2.7248, -3.237, -3.246, -3.246, -3.2625, -4.3379, -4.3379, -4.3379, -4.3379, -4.3379, -4.3379, -4.3379, -4.3379, -4.338, -4.338, -4.338, -4.338, -2.9233, -3.4348, -3.4348, -3.4348, -3.4349, -3.4351, -3.4351, -3.4351, -3.4351, -3.4351, -3.4351, -3.4352, -3.4352, -3.4352, -3.4352, -3.4352, -3.4352, -3.4352, -3.4352, -2.9125, -2.9223, -2.9223, -3.4426, -3.4516, -4.5244, -4.5245, -4.5245, -4.5277, -4.5277, -4.5277, -4.5258]}, \"token.table\": {\"Topic\": [2, 2, 1, 2, 2, 1, 2, 1, 2, 1, 2, 2, 1, 1, 2, 1, 1, 2, 2, 1, 2, 2, 1, 2, 1, 2, 1, 1, 2, 2, 2, 1, 2, 1, 1, 2, 1, 2, 1, 2, 2, 2], \"Freq\": [0.8667657450148226, 0.8667649209945657, 0.6151213282247754, 0.8667406118061888, 0.8667420647770508, 0.43875407450598214, 0.43875407450598214, 0.9142190106152059, 0.5728199715957184, 0.9142191817650798, 0.8667655133096949, 0.8667628611600728, 0.9141370338219318, 0.9142194105141833, 0.8667656961101751, 0.9141364508368469, 0.9142191966376252, 0.8667631732635592, 0.8667440846214838, 0.4390393148245286, 0.4390393148245286, 0.8667625380440903, 0.43903849647490933, 0.43903849647490933, 0.9142197829081989, 0.8667474996986614, 0.9142193538846938, 0.9142186238758697, 0.8667629611530697, 0.8667656534902632, 0.8667624957635769, 0.5935229082113007, 0.5935229082113007, 0.9141356257198789, 0.91421868024573, 0.8667651655727552, 0.451291579240368, 0.451291579240368, 0.9142190898198226, 0.8667662615166449, 0.8667625857934047, 0.8667665311478764], \"Term\": [\"alguns\", \"aumentar\", \"bem\", \"bom\", \"bons\", \"brocolis\", \"brocolis\", \"cobrar\", \"comer\", \"costumo\", \"direcao\", \"dirigindo\", \"dizem\", \"escola\", \"especialistas\", \"faz\", \"fazer\", \"futebol\", \"gosta\", \"irmao\", \"irmao\", \"levar\", \"mae\", \"mae\", \"melhor\", \"nao\", \"nunca\", \"parece\", \"passa\", \"pode\", \"praticar\", \"pressao\", \"pressao\", \"profissionais\", \"sair\", \"sanguinea\", \"saude\", \"saude\", \"sentir\", \"sugerem\", \"tempo\", \"tensao\"]}, \"R\": 30, \"lambda.step\": 0.01, \"plot.opts\": {\"xlab\": \"PC1\", \"ylab\": \"PC2\"}, \"topic.order\": [1, 2]};\n",
       "\n",
       "function LDAvis_load_lib(url, callback){\n",
       "  var s = document.createElement('script');\n",
       "  s.src = url;\n",
       "  s.async = true;\n",
       "  s.onreadystatechange = s.onload = callback;\n",
       "  s.onerror = function(){console.warn(\"failed to load library \" + url);};\n",
       "  document.getElementsByTagName(\"head\")[0].appendChild(s);\n",
       "}\n",
       "\n",
       "if(typeof(LDAvis) !== \"undefined\"){\n",
       "   // already loaded: just create the visualization\n",
       "   !function(LDAvis){\n",
       "       new LDAvis(\"#\" + \"ldavis_el44581403571360391524355998891\", ldavis_el44581403571360391524355998891_data);\n",
       "   }(LDAvis);\n",
       "}else if(typeof define === \"function\" && define.amd){\n",
       "   // require.js is available: use it to load d3/LDAvis\n",
       "   require.config({paths: {d3: \"https://cdnjs.cloudflare.com/ajax/libs/d3/3.5.5/d3.min\"}});\n",
       "   require([\"d3\"], function(d3){\n",
       "      window.d3 = d3;\n",
       "      LDAvis_load_lib(\"https://cdn.rawgit.com/bmabey/pyLDAvis/files/ldavis.v1.0.0.js\", function(){\n",
       "        new LDAvis(\"#\" + \"ldavis_el44581403571360391524355998891\", ldavis_el44581403571360391524355998891_data);\n",
       "      });\n",
       "    });\n",
       "}else{\n",
       "    // require.js not available: dynamically load d3 & LDAvis\n",
       "    LDAvis_load_lib(\"https://cdnjs.cloudflare.com/ajax/libs/d3/3.5.5/d3.min.js\", function(){\n",
       "         LDAvis_load_lib(\"https://cdn.rawgit.com/bmabey/pyLDAvis/files/ldavis.v1.0.0.js\", function(){\n",
       "                 new LDAvis(\"#\" + \"ldavis_el44581403571360391524355998891\", ldavis_el44581403571360391524355998891_data);\n",
       "            })\n",
       "         });\n",
       "}\n",
       "</script>"
      ],
      "text/plain": [
       "<IPython.core.display.HTML object>"
      ]
     },
     "execution_count": 15,
     "metadata": {},
     "output_type": "execute_result"
    }
   ],
   "source": [
    "lda_display = pyLDAvis.gensim.prepare(ldamodel, corpus, dictionary, sort_topics=False)\n",
    "pyLDAvis.display(lda_display)"
   ]
  },
  {
   "cell_type": "code",
   "execution_count": null,
   "metadata": {},
   "outputs": [],
   "source": []
  }
 ],
 "metadata": {
  "kernelspec": {
   "display_name": "Python 3",
   "language": "python",
   "name": "python3"
  },
  "language_info": {
   "codemirror_mode": {
    "name": "ipython",
    "version": 3
   },
   "file_extension": ".py",
   "mimetype": "text/x-python",
   "name": "python",
   "nbconvert_exporter": "python",
   "pygments_lexer": "ipython3",
   "version": "3.6.4"
  }
 },
 "nbformat": 4,
 "nbformat_minor": 2
}
