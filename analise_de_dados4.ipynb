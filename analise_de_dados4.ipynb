{
 "cells": [
  {
   "cell_type": "code",
   "execution_count": null,
   "metadata": {
    "scrolled": true
   },
   "outputs": [],
   "source": [
    "!pip3 install textblob"
   ]
  },
  {
   "cell_type": "code",
   "execution_count": 19,
   "metadata": {
    "scrolled": true
   },
   "outputs": [],
   "source": [
    "from textblob import TextBlob\n",
    "import pandas as pd"
   ]
  },
  {
   "cell_type": "markdown",
   "metadata": {},
   "source": [
    "### Fake News"
   ]
  },
  {
   "cell_type": "markdown",
   "metadata": {},
   "source": [
    "#### Classificação de Textos"
   ]
  },
  {
   "cell_type": "code",
   "execution_count": 20,
   "metadata": {
    "scrolled": true
   },
   "outputs": [],
   "source": [
    "news = pd.read_csv('news.csv', sep=';', header=None)"
   ]
  },
  {
   "cell_type": "code",
   "execution_count": 21,
   "metadata": {
    "scrolled": true
   },
   "outputs": [
    {
     "data": {
      "text/plain": [
       "array([['O capitão américa aparece sobrevoando São Paulo e diz que irá se candidatar',\n",
       "        'verdadeiro'],\n",
       "       ['A polarização da população gera guerra civil', 'fake_news'],\n",
       "       ['O Chaves se pronuncia e diz está indignado com tanta mentira.',\n",
       "        'verdadeiro'],\n",
       "       ['Morte do precidenciavel X por acidente de aviao', 'verdadeiro'],\n",
       "       ['Monumento de Brasilia é atacado por manifestantes e eleicoes seráo canceladas',\n",
       "        'fake_news'],\n",
       "       ['Novo presidente se diz confiante para governar o pais',\n",
       "        'verdadeiro'],\n",
       "       ['Jair Bolsonaro sobe no ranking de rejeicao no nordeste',\n",
       "        'verdadeiro'],\n",
       "       ['Haddad melhora nas pesquisas apos apoio de Lula', 'verdadeiro'],\n",
       "       ['Disputa no segundo turno está cada vez mais acirrada entre os extremos',\n",
       "        'verdadeiro'],\n",
       "       ['Amoedo declara apoio ao PT', 'fake_news'],\n",
       "       ['Manifestantes em Sao Paulo param avenida pedem intervençao militar!',\n",
       "        'fake_news'],\n",
       "       ['Padre Marcelo Rossi diz que irá se candidatar a presidencia',\n",
       "        'fake_news'],\n",
       "       ['Ex presidente Lula consegue habeas Corpus e pode ser candidato',\n",
       "        'fake_news'],\n",
       "       ['Presidente temmer declara apoio ao partido NOVO', 'fake_news'],\n",
       "       ['Mourao declara que é contra o 13 salario e adiantamento de férias de funcionários',\n",
       "        'verdadeiro']], dtype=object)"
      ]
     },
     "execution_count": 21,
     "metadata": {},
     "output_type": "execute_result"
    }
   ],
   "source": [
    "news.values"
   ]
  },
  {
   "cell_type": "code",
   "execution_count": 22,
   "metadata": {},
   "outputs": [],
   "source": [
    "from textblob.classifiers import NaiveBayesClassifier\n",
    "clf = NaiveBayesClassifier(news.values, format=\"csv\")"
   ]
  },
  {
   "cell_type": "code",
   "execution_count": 23,
   "metadata": {},
   "outputs": [
    {
     "data": {
      "text/plain": [
       "'fake_news'"
      ]
     },
     "execution_count": 23,
     "metadata": {},
     "output_type": "execute_result"
    }
   ],
   "source": [
    "clf.classify('Presidente Temmer declara apoio a candidato do PSDB')"
   ]
  },
  {
   "cell_type": "code",
   "execution_count": 24,
   "metadata": {},
   "outputs": [
    {
     "data": {
      "text/plain": [
       "'verdadeiro'"
      ]
     },
     "execution_count": 24,
     "metadata": {},
     "output_type": "execute_result"
    }
   ],
   "source": [
    "clf.classify('Disputa entre presidenciais sera mesmo no segundo turno')"
   ]
  },
  {
   "cell_type": "code",
   "execution_count": 25,
   "metadata": {},
   "outputs": [],
   "source": [
    "dist_prob = clf.prob_classify('Padre Marcelo Rossi se pronuncia e diz que irá se candidatar')"
   ]
  },
  {
   "cell_type": "markdown",
   "metadata": {},
   "source": [
    "#### Distribuição das Probabilidades"
   ]
  },
  {
   "cell_type": "code",
   "execution_count": 26,
   "metadata": {},
   "outputs": [
    {
     "data": {
      "text/plain": [
       "0.8336538270304874"
      ]
     },
     "execution_count": 26,
     "metadata": {},
     "output_type": "execute_result"
    }
   ],
   "source": [
    "dist_prob.prob('fake_news')"
   ]
  },
  {
   "cell_type": "code",
   "execution_count": 27,
   "metadata": {},
   "outputs": [
    {
     "data": {
      "text/plain": [
       "0.16634617296951093"
      ]
     },
     "execution_count": 27,
     "metadata": {},
     "output_type": "execute_result"
    }
   ],
   "source": [
    "dist_prob.prob('verdadeiro')"
   ]
  },
  {
   "cell_type": "code",
   "execution_count": 28,
   "metadata": {},
   "outputs": [
    {
     "data": {
      "text/plain": [
       "'fake_news'"
      ]
     },
     "execution_count": 28,
     "metadata": {},
     "output_type": "execute_result"
    }
   ],
   "source": [
    "dist_prob.max()"
   ]
  },
  {
   "cell_type": "markdown",
   "metadata": {},
   "source": [
    "#### Avaliação o classificador"
   ]
  },
  {
   "cell_type": "code",
   "execution_count": 29,
   "metadata": {},
   "outputs": [],
   "source": [
    "validacao = [\n",
    "     ('O governo temmer propoe reforma trabalhista', 'verdadeiro'),\n",
    "     ('Capitão america é visto em campanha eleitoral do partido NOVO', 'fake_news'),\n",
    "     (\"Lula é solto essa madrugada\", 'fake_news'),\n",
    "     (\"Jair Bolsonaro melhora nas pesquisas após atentado.\", 'verdadeiro')\n",
    "]"
   ]
  },
  {
   "cell_type": "code",
   "execution_count": 30,
   "metadata": {},
   "outputs": [
    {
     "data": {
      "text/plain": [
       "0.75"
      ]
     },
     "execution_count": 30,
     "metadata": {},
     "output_type": "execute_result"
    }
   ],
   "source": [
    "clf.accuracy(validacao)"
   ]
  },
  {
   "cell_type": "code",
   "execution_count": 31,
   "metadata": {},
   "outputs": [
    {
     "name": "stdout",
     "output_type": "stream",
     "text": [
      "O governo temmer propoe reforma trabalhista fake_news\n",
      "Capitão america é visto em campanha eleitoral do partido NOVO fake_news\n",
      "Lula é solto essa madrugada fake_news\n",
      "Jair Bolsonaro melhora nas pesquisas após atentado. verdadeiro\n"
     ]
    }
   ],
   "source": [
    "for i in validacao:\n",
    "    print (i[0], clf.classify(i[0]))"
   ]
  },
  {
   "cell_type": "markdown",
   "metadata": {},
   "source": [
    "#### Features mais informativas"
   ]
  },
  {
   "cell_type": "code",
   "execution_count": 14,
   "metadata": {},
   "outputs": [
    {
     "name": "stdout",
     "output_type": "stream",
     "text": [
      "Most Informative Features\n",
      "            contains(de) = True           verdad : fake_n =      2.7 : 1.0\n",
      "           contains(diz) = True           verdad : fake_n =      2.1 : 1.0\n",
      "            contains(se) = True           verdad : fake_n =      2.1 : 1.0\n",
      "       contains(declara) = True           fake_n : verdad =      1.9 : 1.0\n",
      "         contains(apoio) = True           fake_n : verdad =      1.9 : 1.0\n",
      "            contains(de) = False          fake_n : verdad =      1.6 : 1.0\n",
      "           contains(que) = True           verdad : fake_n =      1.5 : 1.0\n",
      "            contains(ao) = False          verdad : fake_n =      1.4 : 1.0\n",
      "            contains(se) = False          fake_n : verdad =      1.3 : 1.0\n",
      "           contains(diz) = False          fake_n : verdad =      1.3 : 1.0\n"
     ]
    }
   ],
   "source": [
    "clf.show_informative_features()"
   ]
  }
 ],
 "metadata": {
  "kernelspec": {
   "display_name": "Python 3",
   "language": "python",
   "name": "python3"
  },
  "language_info": {
   "codemirror_mode": {
    "name": "ipython",
    "version": 3
   },
   "file_extension": ".py",
   "mimetype": "text/x-python",
   "name": "python",
   "nbconvert_exporter": "python",
   "pygments_lexer": "ipython3",
   "version": "3.6.6"
  }
 },
 "nbformat": 4,
 "nbformat_minor": 2
}
