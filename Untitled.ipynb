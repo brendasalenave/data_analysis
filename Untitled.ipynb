{
 "cells": [
  {
   "cell_type": "code",
   "execution_count": null,
   "metadata": {},
   "outputs": [],
   "source": [
    "import warnings\n",
    "warnings.simplefilter(\"ignore\")"
   ]
  },
  {
   "cell_type": "markdown",
   "metadata": {},
   "source": [
    "### Aplicação de LDA em dados do twitter\n",
    "\n",
    "Dados extraídos do Twitter nos dias **<font color='red'>06</font>** e **<font color='red'>07</font>** de outubro de 2018"
   ]
  },
  {
   "cell_type": "code",
   "execution_count": null,
   "metadata": {
    "scrolled": true
   },
   "outputs": [],
   "source": [
    "from nltk.tokenize import RegexpTokenizer\n",
    "from stop_words import get_stop_words\n",
    "from nltk.stem import RSLPStemmer\n",
    "import unicodedata\n",
    "from gensim import corpora, models\n",
    "import gensim\n",
    "import pyLDAvis.gensim\n",
    "import csv\n",
    "import re"
   ]
  },
  {
   "cell_type": "code",
   "execution_count": null,
   "metadata": {},
   "outputs": [],
   "source": [
    "tokenizer = RegexpTokenizer(r'\\w+')\n",
    "\n",
    "# create Portuguese stop words list\n",
    "pt_stop = get_stop_words('pt')\n",
    "\n",
    "# Create p_stemmer of class PorterStemmer\n",
    "p_stemmer = RSLPStemmer()"
   ]
  },
  {
   "cell_type": "markdown",
   "metadata": {},
   "source": [
    "### \\#EleSim"
   ]
  },
  {
   "cell_type": "code",
   "execution_count": null,
   "metadata": {},
   "outputs": [],
   "source": [
    "doc_set = []\n",
    "with open('elesim.csv', newline='') as csvfile:\n",
    "    reader = csv.reader(csvfile, delimiter=',', quotechar='\"')\n",
    "    for row in reader:\n",
    "        doc_set.append(row[10])\n",
    "#size = int(len(doc_set)/2)\n",
    "#print(size)\n",
    "#doc_set = doc_set[size:]"
   ]
  },
  {
   "cell_type": "code",
   "execution_count": null,
   "metadata": {},
   "outputs": [],
   "source": [
    "# list for tokenized documents in loop\n",
    "texts = []\n",
    "#candidatos = ['haddad','bolsonaro','amoedo', 'alckmin','meireles','marina','boulos','daciolo','alvaro','ciro','eymael','vera','goulart']\n",
    "\n",
    "# loop through document list\n",
    "for i in doc_set:\n",
    "\n",
    "    # clean and tokenize document string\n",
    "    raw = i.lower()\n",
    "    #data = text\n",
    "    raw = unicodedata.normalize('NFKD', raw).encode('ASCII', 'ignore')\n",
    "    raw = (str(raw).replace('b\\'','').replace('\\'',''))\n",
    "    #raw = re.sub(r'(https?:\\/\\/)(\\s)*(www\\.)?(\\s)*((\\w|\\s)+\\.)*([\\w\\-\\s]+\\/)*([\\w\\-]+)((\\?)?[\\w\\s]*=\\s*[\\w\\%&]*)*', '', raw, flags=re.MULTILINE)\n",
    "    #raw = re.sub(r'((https?:\\/\\/)(\\s)*|(www\\.)?)((\\w+(\\-|\\.|\\/\\w?|\\_|\\=|\\&)+)+(\\s\\?)?)+','',raw)\n",
    "    raw = re.sub(r'(https?:\\/\\/)(\\s)*(www\\.)?\\s?((\\w|\\-|\\.|\\/|\\_|\\=|\\&)+(\\s\\?)?)+|(\\w+\\/\\w+)|igshid','',raw)\n",
    "    raw = re.sub(r'haddad|fernando|bolsonaro|jair|amoedo|alckmin|meirelles|marina|boulos|daciolo|alvaro|ciro|eymael|vera|goulart','',raw)\n",
    "    raw = re.sub(r'(#\\w+)(\\_\\w+)?|(\\@\\w+)|(\\w+\\_\\w+)?|(\\w+\\&\\w+\\=\\w+)', '', raw, flags=re.MULTILINE)\n",
    "\n",
    "    tokens = tokenizer.tokenize(raw)\n",
    "\n",
    "    # remove stop words from tokens\n",
    "    stopped_tokens = [i for i in tokens if not i in pt_stop and len(i) > 3]\n",
    "\n",
    "    \n",
    "    # stem tokens\n",
    "    #stemmed_tokens = [p_stemmer.stem(i) for i in stopped_tokens]\n",
    "    #print(stemmed_tokens)\n",
    "\n",
    "    # add tokens to list\n",
    "    texts.append(stopped_tokens)\n",
    "\n",
    "# turn our tokenized documents into a id <-> term dictionary\n",
    "dictionary = corpora.Dictionary(texts)"
   ]
  },
  {
   "cell_type": "code",
   "execution_count": null,
   "metadata": {
    "scrolled": true
   },
   "outputs": [],
   "source": [
    "# convert tokenized documents into a document-term matrix\n",
    "corpus = [dictionary.doc2bow(text) for text in texts]\n",
    "\n",
    "# generate LDA model\n",
    "ldamodel = gensim.models.ldamodel.LdaModel(corpus, num_topics=4, id2word = dictionary, passes=20,random_state=1)\n",
    "#print(ldamodel)\n",
    "print(ldamodel.print_topics(num_topics=4, num_words=4))"
   ]
  },
  {
   "cell_type": "markdown",
   "metadata": {},
   "source": [
    "#### Interpretação\n",
    "\n",
    "- Saliency: uma medida de quanto o termo lhe diz sobre o tópico.\n",
    "\n",
    "- Relevance: uma média ponderada da probabilidade da palavra dada ao tópico e a palavra normalizada pela probabilidade do tópico.\n",
    "\n",
    "- O tamanho da bolha indica a importância dos tópicos em relação aos dados.\n",
    "\n",
    "- Primeiro, temos os termos mais relevantes, significa que os termos nos dizem principalmente sobre o que está acontecendo em relação aos tópicos. É possível também observar tópicos individuais"
   ]
  },
  {
   "cell_type": "code",
   "execution_count": null,
   "metadata": {
    "scrolled": true
   },
   "outputs": [],
   "source": [
    "lda_display = pyLDAvis.gensim.prepare(ldamodel, corpus, dictionary, sort_topics=False)\n",
    "pyLDAvis.display(lda_display)"
   ]
  },
  {
   "cell_type": "code",
   "execution_count": null,
   "metadata": {},
   "outputs": [],
   "source": [
    "pyLDAvis.save_html(lda_display, 'elesim.html')"
   ]
  },
  {
   "cell_type": "markdown",
   "metadata": {},
   "source": [
    "### \\#EleNao"
   ]
  },
  {
   "cell_type": "code",
   "execution_count": null,
   "metadata": {},
   "outputs": [],
   "source": [
    "doc_set = []\n",
    "with open('elenao.csv', newline='') as csvfile:\n",
    "    reader = csv.reader(csvfile, delimiter=';', quotechar='\"')\n",
    "    for row in reader:\n",
    "        doc_set.append(row[4])\n",
    "#size = int(len(doc_set)/2)\n",
    "#print(size)\n",
    "#doc_set = doc_set[size:]"
   ]
  },
  {
   "cell_type": "code",
   "execution_count": null,
   "metadata": {},
   "outputs": [],
   "source": [
    "# list for tokenized documents in loop\n",
    "texts = []\n",
    "\n",
    "# loop through document list\n",
    "for i in doc_set:\n",
    "\n",
    "    # clean and tokenize document string\n",
    "    raw = i.lower()\n",
    "    #data = text\n",
    "    raw = unicodedata.normalize('NFKD', raw).encode('ASCII', 'ignore')\n",
    "    raw = (str(raw).replace('b\\'','').replace('\\'',''))\n",
    "    #raw = re.sub(r'(https?:\\/\\/)(\\s)*(www\\.)?(\\s)*((\\w|\\s)+\\.)*([\\w\\-\\s]+\\/)*([\\w\\-]+)((\\?)?[\\w\\s]*=\\s*[\\w\\%&]*)*', '', raw, flags=re.MULTILINE)\n",
    "    #raw = re.sub(r'#(\\w)+', '', raw, flags=re.MULTILINE)\n",
    "    raw = re.sub(r'(https?:\\/\\/)(\\s)*(www\\.)?\\s?((\\w|\\-|\\.|\\/|\\_|\\=|\\&)+(\\s\\?)?)+|(\\w+\\/\\w+)','',raw)\n",
    "    raw = re.sub(r'haddad|fernando|bolsonaro|jair|amoedo|alckmin|meirelles|marina|boulos|daciolo|alvaro|ciro|eymael|vera|goulart','',raw)\n",
    "    raw = re.sub(r'(#\\w+)(\\_\\w+)?|(\\@\\w+)|(\\w+\\_\\w+)?', '', raw, flags=re.MULTILINE)\n",
    "\n",
    "    \n",
    "    tokens = tokenizer.tokenize(raw)\n",
    "\n",
    "    # remove stop words from tokens\n",
    "    stopped_tokens = [i for i in tokens if not i in pt_stop and len(i) > 3]\n",
    "\n",
    "    # stem tokens\n",
    "    #stemmed_tokens = [p_stemmer.stem(i) for i in stopped_tokens]\n",
    "    #print(stemmed_tokens)\n",
    "\n",
    "    # add tokens to list\n",
    "    texts.append(stopped_tokens)\n",
    "\n",
    "# turn our tokenized documents into a id <-> term dictionary\n",
    "dictionary = corpora.Dictionary(texts)"
   ]
  },
  {
   "cell_type": "code",
   "execution_count": null,
   "metadata": {},
   "outputs": [],
   "source": [
    "# convert tokenized documents into a document-term matrix\n",
    "corpus = [dictionary.doc2bow(text) for text in texts]\n",
    "\n",
    "# generate LDA model\n",
    "ldamodel = gensim.models.ldamodel.LdaModel(corpus, num_topics=4, id2word = dictionary, passes=20,random_state=1)\n",
    "#print(ldamodel)\n",
    "print(ldamodel.print_topics(num_topics=4, num_words=4))\n",
    "lda_display = pyLDAvis.gensim.prepare(ldamodel, corpus, dictionary, sort_topics=False)\n",
    "pyLDAvis.display(lda_display)"
   ]
  },
  {
   "cell_type": "code",
   "execution_count": null,
   "metadata": {},
   "outputs": [],
   "source": [
    "pyLDAvis.save_html(lda_display, 'elenao.html')"
   ]
  },
  {
   "cell_type": "code",
   "execution_count": null,
   "metadata": {},
   "outputs": [],
   "source": []
  }
 ],
 "metadata": {
  "kernelspec": {
   "display_name": "Python 3",
   "language": "python",
   "name": "python3"
  },
  "language_info": {
   "codemirror_mode": {
    "name": "ipython",
    "version": 3
   },
   "file_extension": ".py",
   "mimetype": "text/x-python",
   "name": "python",
   "nbconvert_exporter": "python",
   "pygments_lexer": "ipython3",
   "version": "3.6.4"
  }
 },
 "nbformat": 4,
 "nbformat_minor": 2
}
